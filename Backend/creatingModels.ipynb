{
 "cells": [
  {
   "cell_type": "code",
   "execution_count": 22,
   "metadata": {},
   "outputs": [],
   "source": [
    "import pandas as pd\n",
    "import numpy as np\n",
    "from sklearn.metrics import mean_absolute_error, mean_squared_error, r2_score"
   ]
  },
  {
   "cell_type": "markdown",
   "metadata": {},
   "source": [
    "### Creating Training Data Structure"
   ]
  },
  {
   "cell_type": "code",
   "execution_count": 23,
   "metadata": {},
   "outputs": [
    {
     "ename": "FileNotFoundError",
     "evalue": "[Errno 2] No such file or directory: '/Users/anurag/Desktop/Computer Science/Monash/2023/FIT3164 Data Science Project Semester 2/Electricity-Demand-Forecasting/Data/data_for_analysis/actuals_1.csv'",
     "output_type": "error",
     "traceback": [
      "\u001b[1;31m---------------------------------------------------------------------------\u001b[0m",
      "\u001b[1;31mFileNotFoundError\u001b[0m                         Traceback (most recent call last)",
      "\u001b[1;32m<ipython-input-23-d693e08ccf7d>\u001b[0m in \u001b[0;36m<module>\u001b[1;34m\u001b[0m\n\u001b[1;32m----> 1\u001b[1;33m \u001b[0mdf\u001b[0m \u001b[1;33m=\u001b[0m \u001b[0mpd\u001b[0m\u001b[1;33m.\u001b[0m\u001b[0mread_csv\u001b[0m\u001b[1;33m(\u001b[0m\u001b[1;34m\"/Users/anurag/Desktop/Computer Science/Monash/2023/FIT3164 Data Science Project Semester 2/Electricity-Demand-Forecasting/Data/data_for_analysis/actuals_1.csv\"\u001b[0m\u001b[1;33m)\u001b[0m\u001b[1;33m\u001b[0m\u001b[1;33m\u001b[0m\u001b[0m\n\u001b[0m\u001b[0;32m      2\u001b[0m \u001b[0mdf2\u001b[0m \u001b[1;33m=\u001b[0m \u001b[0mpd\u001b[0m\u001b[1;33m.\u001b[0m\u001b[0mread_csv\u001b[0m\u001b[1;33m(\u001b[0m\u001b[1;34m\"/Users/anurag/Desktop/Computer Science/Monash/2023/FIT3164 Data Science Project Semester 2/Electricity-Demand-Forecasting/Data/data_for_analysis/actuals_2.csv\"\u001b[0m\u001b[1;33m)\u001b[0m\u001b[1;33m\u001b[0m\u001b[1;33m\u001b[0m\u001b[0m\n\u001b[0;32m      3\u001b[0m \u001b[1;33m\u001b[0m\u001b[0m\n\u001b[0;32m      4\u001b[0m \u001b[1;31m#Create Whole Dataset\u001b[0m\u001b[1;33m\u001b[0m\u001b[1;33m\u001b[0m\u001b[1;33m\u001b[0m\u001b[0m\n\u001b[0;32m      5\u001b[0m \u001b[0mdf_train\u001b[0m \u001b[1;33m=\u001b[0m \u001b[0mpd\u001b[0m\u001b[1;33m.\u001b[0m\u001b[0mconcat\u001b[0m\u001b[1;33m(\u001b[0m\u001b[1;33m[\u001b[0m\u001b[0mdf\u001b[0m\u001b[1;33m,\u001b[0m \u001b[0mdf2\u001b[0m\u001b[1;33m]\u001b[0m\u001b[1;33m,\u001b[0m \u001b[0maxis\u001b[0m \u001b[1;33m=\u001b[0m \u001b[1;36m0\u001b[0m\u001b[1;33m)\u001b[0m\u001b[1;33m\u001b[0m\u001b[1;33m\u001b[0m\u001b[0m\n",
      "\u001b[1;32mc:\\Users\\Ethan\\anaconda3\\lib\\site-packages\\pandas\\io\\parsers.py\u001b[0m in \u001b[0;36mread_csv\u001b[1;34m(filepath_or_buffer, sep, delimiter, header, names, index_col, usecols, squeeze, prefix, mangle_dupe_cols, dtype, engine, converters, true_values, false_values, skipinitialspace, skiprows, skipfooter, nrows, na_values, keep_default_na, na_filter, verbose, skip_blank_lines, parse_dates, infer_datetime_format, keep_date_col, date_parser, dayfirst, cache_dates, iterator, chunksize, compression, thousands, decimal, lineterminator, quotechar, quoting, doublequote, escapechar, comment, encoding, dialect, error_bad_lines, warn_bad_lines, delim_whitespace, low_memory, memory_map, float_precision, storage_options)\u001b[0m\n\u001b[0;32m    608\u001b[0m     \u001b[0mkwds\u001b[0m\u001b[1;33m.\u001b[0m\u001b[0mupdate\u001b[0m\u001b[1;33m(\u001b[0m\u001b[0mkwds_defaults\u001b[0m\u001b[1;33m)\u001b[0m\u001b[1;33m\u001b[0m\u001b[1;33m\u001b[0m\u001b[0m\n\u001b[0;32m    609\u001b[0m \u001b[1;33m\u001b[0m\u001b[0m\n\u001b[1;32m--> 610\u001b[1;33m     \u001b[1;32mreturn\u001b[0m \u001b[0m_read\u001b[0m\u001b[1;33m(\u001b[0m\u001b[0mfilepath_or_buffer\u001b[0m\u001b[1;33m,\u001b[0m \u001b[0mkwds\u001b[0m\u001b[1;33m)\u001b[0m\u001b[1;33m\u001b[0m\u001b[1;33m\u001b[0m\u001b[0m\n\u001b[0m\u001b[0;32m    611\u001b[0m \u001b[1;33m\u001b[0m\u001b[0m\n\u001b[0;32m    612\u001b[0m \u001b[1;33m\u001b[0m\u001b[0m\n",
      "\u001b[1;32mc:\\Users\\Ethan\\anaconda3\\lib\\site-packages\\pandas\\io\\parsers.py\u001b[0m in \u001b[0;36m_read\u001b[1;34m(filepath_or_buffer, kwds)\u001b[0m\n\u001b[0;32m    460\u001b[0m \u001b[1;33m\u001b[0m\u001b[0m\n\u001b[0;32m    461\u001b[0m     \u001b[1;31m# Create the parser.\u001b[0m\u001b[1;33m\u001b[0m\u001b[1;33m\u001b[0m\u001b[1;33m\u001b[0m\u001b[0m\n\u001b[1;32m--> 462\u001b[1;33m     \u001b[0mparser\u001b[0m \u001b[1;33m=\u001b[0m \u001b[0mTextFileReader\u001b[0m\u001b[1;33m(\u001b[0m\u001b[0mfilepath_or_buffer\u001b[0m\u001b[1;33m,\u001b[0m \u001b[1;33m**\u001b[0m\u001b[0mkwds\u001b[0m\u001b[1;33m)\u001b[0m\u001b[1;33m\u001b[0m\u001b[1;33m\u001b[0m\u001b[0m\n\u001b[0m\u001b[0;32m    463\u001b[0m \u001b[1;33m\u001b[0m\u001b[0m\n\u001b[0;32m    464\u001b[0m     \u001b[1;32mif\u001b[0m \u001b[0mchunksize\u001b[0m \u001b[1;32mor\u001b[0m \u001b[0miterator\u001b[0m\u001b[1;33m:\u001b[0m\u001b[1;33m\u001b[0m\u001b[1;33m\u001b[0m\u001b[0m\n",
      "\u001b[1;32mc:\\Users\\Ethan\\anaconda3\\lib\\site-packages\\pandas\\io\\parsers.py\u001b[0m in \u001b[0;36m__init__\u001b[1;34m(self, f, engine, **kwds)\u001b[0m\n\u001b[0;32m    817\u001b[0m             \u001b[0mself\u001b[0m\u001b[1;33m.\u001b[0m\u001b[0moptions\u001b[0m\u001b[1;33m[\u001b[0m\u001b[1;34m\"has_index_names\"\u001b[0m\u001b[1;33m]\u001b[0m \u001b[1;33m=\u001b[0m \u001b[0mkwds\u001b[0m\u001b[1;33m[\u001b[0m\u001b[1;34m\"has_index_names\"\u001b[0m\u001b[1;33m]\u001b[0m\u001b[1;33m\u001b[0m\u001b[1;33m\u001b[0m\u001b[0m\n\u001b[0;32m    818\u001b[0m \u001b[1;33m\u001b[0m\u001b[0m\n\u001b[1;32m--> 819\u001b[1;33m         \u001b[0mself\u001b[0m\u001b[1;33m.\u001b[0m\u001b[0m_engine\u001b[0m \u001b[1;33m=\u001b[0m \u001b[0mself\u001b[0m\u001b[1;33m.\u001b[0m\u001b[0m_make_engine\u001b[0m\u001b[1;33m(\u001b[0m\u001b[0mself\u001b[0m\u001b[1;33m.\u001b[0m\u001b[0mengine\u001b[0m\u001b[1;33m)\u001b[0m\u001b[1;33m\u001b[0m\u001b[1;33m\u001b[0m\u001b[0m\n\u001b[0m\u001b[0;32m    820\u001b[0m \u001b[1;33m\u001b[0m\u001b[0m\n\u001b[0;32m    821\u001b[0m     \u001b[1;32mdef\u001b[0m \u001b[0mclose\u001b[0m\u001b[1;33m(\u001b[0m\u001b[0mself\u001b[0m\u001b[1;33m)\u001b[0m\u001b[1;33m:\u001b[0m\u001b[1;33m\u001b[0m\u001b[1;33m\u001b[0m\u001b[0m\n",
      "\u001b[1;32mc:\\Users\\Ethan\\anaconda3\\lib\\site-packages\\pandas\\io\\parsers.py\u001b[0m in \u001b[0;36m_make_engine\u001b[1;34m(self, engine)\u001b[0m\n\u001b[0;32m   1048\u001b[0m             )\n\u001b[0;32m   1049\u001b[0m         \u001b[1;31m# error: Too many arguments for \"ParserBase\"\u001b[0m\u001b[1;33m\u001b[0m\u001b[1;33m\u001b[0m\u001b[1;33m\u001b[0m\u001b[0m\n\u001b[1;32m-> 1050\u001b[1;33m         \u001b[1;32mreturn\u001b[0m \u001b[0mmapping\u001b[0m\u001b[1;33m[\u001b[0m\u001b[0mengine\u001b[0m\u001b[1;33m]\u001b[0m\u001b[1;33m(\u001b[0m\u001b[0mself\u001b[0m\u001b[1;33m.\u001b[0m\u001b[0mf\u001b[0m\u001b[1;33m,\u001b[0m \u001b[1;33m**\u001b[0m\u001b[0mself\u001b[0m\u001b[1;33m.\u001b[0m\u001b[0moptions\u001b[0m\u001b[1;33m)\u001b[0m  \u001b[1;31m# type: ignore[call-arg]\u001b[0m\u001b[1;33m\u001b[0m\u001b[1;33m\u001b[0m\u001b[0m\n\u001b[0m\u001b[0;32m   1051\u001b[0m \u001b[1;33m\u001b[0m\u001b[0m\n\u001b[0;32m   1052\u001b[0m     \u001b[1;32mdef\u001b[0m \u001b[0m_failover_to_python\u001b[0m\u001b[1;33m(\u001b[0m\u001b[0mself\u001b[0m\u001b[1;33m)\u001b[0m\u001b[1;33m:\u001b[0m\u001b[1;33m\u001b[0m\u001b[1;33m\u001b[0m\u001b[0m\n",
      "\u001b[1;32mc:\\Users\\Ethan\\anaconda3\\lib\\site-packages\\pandas\\io\\parsers.py\u001b[0m in \u001b[0;36m__init__\u001b[1;34m(self, src, **kwds)\u001b[0m\n\u001b[0;32m   1865\u001b[0m \u001b[1;33m\u001b[0m\u001b[0m\n\u001b[0;32m   1866\u001b[0m         \u001b[1;31m# open handles\u001b[0m\u001b[1;33m\u001b[0m\u001b[1;33m\u001b[0m\u001b[1;33m\u001b[0m\u001b[0m\n\u001b[1;32m-> 1867\u001b[1;33m         \u001b[0mself\u001b[0m\u001b[1;33m.\u001b[0m\u001b[0m_open_handles\u001b[0m\u001b[1;33m(\u001b[0m\u001b[0msrc\u001b[0m\u001b[1;33m,\u001b[0m \u001b[0mkwds\u001b[0m\u001b[1;33m)\u001b[0m\u001b[1;33m\u001b[0m\u001b[1;33m\u001b[0m\u001b[0m\n\u001b[0m\u001b[0;32m   1868\u001b[0m         \u001b[1;32massert\u001b[0m \u001b[0mself\u001b[0m\u001b[1;33m.\u001b[0m\u001b[0mhandles\u001b[0m \u001b[1;32mis\u001b[0m \u001b[1;32mnot\u001b[0m \u001b[1;32mNone\u001b[0m\u001b[1;33m\u001b[0m\u001b[1;33m\u001b[0m\u001b[0m\n\u001b[0;32m   1869\u001b[0m         \u001b[1;32mfor\u001b[0m \u001b[0mkey\u001b[0m \u001b[1;32min\u001b[0m \u001b[1;33m(\u001b[0m\u001b[1;34m\"storage_options\"\u001b[0m\u001b[1;33m,\u001b[0m \u001b[1;34m\"encoding\"\u001b[0m\u001b[1;33m,\u001b[0m \u001b[1;34m\"memory_map\"\u001b[0m\u001b[1;33m,\u001b[0m \u001b[1;34m\"compression\"\u001b[0m\u001b[1;33m)\u001b[0m\u001b[1;33m:\u001b[0m\u001b[1;33m\u001b[0m\u001b[1;33m\u001b[0m\u001b[0m\n",
      "\u001b[1;32mc:\\Users\\Ethan\\anaconda3\\lib\\site-packages\\pandas\\io\\parsers.py\u001b[0m in \u001b[0;36m_open_handles\u001b[1;34m(self, src, kwds)\u001b[0m\n\u001b[0;32m   1360\u001b[0m         \u001b[0mLet\u001b[0m \u001b[0mthe\u001b[0m \u001b[0mreaders\u001b[0m \u001b[0mopen\u001b[0m \u001b[0mIOHanldes\u001b[0m \u001b[0mafter\u001b[0m \u001b[0mthey\u001b[0m \u001b[0mare\u001b[0m \u001b[0mdone\u001b[0m \u001b[1;32mwith\u001b[0m \u001b[0mtheir\u001b[0m \u001b[0mpotential\u001b[0m \u001b[0mraises\u001b[0m\u001b[1;33m.\u001b[0m\u001b[1;33m\u001b[0m\u001b[1;33m\u001b[0m\u001b[0m\n\u001b[0;32m   1361\u001b[0m         \"\"\"\n\u001b[1;32m-> 1362\u001b[1;33m         self.handles = get_handle(\n\u001b[0m\u001b[0;32m   1363\u001b[0m             \u001b[0msrc\u001b[0m\u001b[1;33m,\u001b[0m\u001b[1;33m\u001b[0m\u001b[1;33m\u001b[0m\u001b[0m\n\u001b[0;32m   1364\u001b[0m             \u001b[1;34m\"r\"\u001b[0m\u001b[1;33m,\u001b[0m\u001b[1;33m\u001b[0m\u001b[1;33m\u001b[0m\u001b[0m\n",
      "\u001b[1;32mc:\\Users\\Ethan\\anaconda3\\lib\\site-packages\\pandas\\io\\common.py\u001b[0m in \u001b[0;36mget_handle\u001b[1;34m(path_or_buf, mode, encoding, compression, memory_map, is_text, errors, storage_options)\u001b[0m\n\u001b[0;32m    640\u001b[0m                 \u001b[0merrors\u001b[0m \u001b[1;33m=\u001b[0m \u001b[1;34m\"replace\"\u001b[0m\u001b[1;33m\u001b[0m\u001b[1;33m\u001b[0m\u001b[0m\n\u001b[0;32m    641\u001b[0m             \u001b[1;31m# Encoding\u001b[0m\u001b[1;33m\u001b[0m\u001b[1;33m\u001b[0m\u001b[1;33m\u001b[0m\u001b[0m\n\u001b[1;32m--> 642\u001b[1;33m             handle = open(\n\u001b[0m\u001b[0;32m    643\u001b[0m                 \u001b[0mhandle\u001b[0m\u001b[1;33m,\u001b[0m\u001b[1;33m\u001b[0m\u001b[1;33m\u001b[0m\u001b[0m\n\u001b[0;32m    644\u001b[0m                 \u001b[0mioargs\u001b[0m\u001b[1;33m.\u001b[0m\u001b[0mmode\u001b[0m\u001b[1;33m,\u001b[0m\u001b[1;33m\u001b[0m\u001b[1;33m\u001b[0m\u001b[0m\n",
      "\u001b[1;31mFileNotFoundError\u001b[0m: [Errno 2] No such file or directory: '/Users/anurag/Desktop/Computer Science/Monash/2023/FIT3164 Data Science Project Semester 2/Electricity-Demand-Forecasting/Data/data_for_analysis/actuals_1.csv'"
     ]
    }
   ],
   "source": [
    "df = pd.read_csv(\"..\\\\data\\\\data_for_analysis\\\\actuals_1.csv\")\n",
    "df2 = pd.read_csv(\"..\\\\data\\\\data_for_analysis\\\\actuals_1.csv\")\n",
    "\n",
    "#Create Whole Dataset\n",
    "df_train = pd.concat([df, df2], axis = 0)\n",
    "\n",
    "df_train['Time'] = pd.to_datetime(df_train['Time'])"
   ]
  },
  {
   "cell_type": "markdown",
   "metadata": {},
   "source": [
    "### Creating Test Data Structure"
   ]
  },
  {
   "cell_type": "code",
   "execution_count": null,
   "metadata": {},
   "outputs": [],
   "source": [
    "df_test = pd.read_csv(\"..\\\\data\\\\data_for_analysis\\\\actuals_1.csv\")\n",
    "\n",
    "df_test['Time'] = pd.to_datetime(df_test['Time'])"
   ]
  },
  {
   "cell_type": "code",
   "execution_count": null,
   "metadata": {},
   "outputs": [],
   "source": [
    "def combine_rows_with_different_attribute_names(df, df_test):\n",
    "    combined_data_list = []\n",
    "\n",
    "    # start at 0, stop 168 + 1 rows before end, jump by 24 hours / 1 day.\n",
    "    for i in range(0, len(df_test) - (168 + 1), 24):\n",
    "        combined_data = {}\n",
    "        \n",
    "        if i + 168 + 24 >= (len(df_test)):\n",
    "            break\n",
    "        \n",
    "        for j in range(168):\n",
    "            row = df.iloc[i + j]\n",
    "\n",
    "            # Iterate over columns and update column names\n",
    "            for col, val in row.items():\n",
    "                combined_data[f\"{col}_date{j+1}\"] = val\n",
    "        \n",
    "        # Append the combined data dictionary to the list\n",
    "        \n",
    "        for j in range(48):\n",
    "            # if i + j + 168 >= (len(df_test) - 1):\n",
    "            #     break\n",
    "            row = df_test.iloc[i + j + 168]\n",
    "            \n",
    "            for col, val in row.items():\n",
    "                combined_data[f\"{col}_test_date{j+1}\"] = val\n",
    "            \n",
    "            \n",
    "        combined_data_list.append(combined_data)\n",
    "\n",
    "    # Convert the list of dictionaries into a DataFrame\n",
    "    combined_df = pd.DataFrame(combined_data_list)\n",
    "\n",
    "    return combined_df\n",
    "\n",
    "# Example usage:\n",
    "# Assuming you have a DataFrame named df_train\n",
    "formatted_data = combine_rows_with_different_attribute_names(df_train, df_test)\n"
   ]
  },
  {
   "cell_type": "code",
   "execution_count": null,
   "metadata": {},
   "outputs": [],
   "source": [
    "def naive(formatted_data):\n",
    "    \"\"\"\n",
    "    :Input: \n",
    "        :data: The entire dataset of batches.\n",
    "        \n",
    "    For this algorithm, go over each batch, create a list of predctions,\n",
    "    compare these predictions to the predictions to actuals, which can be done through the \n",
    "    next row which introduce the data for the next two days.\n",
    "    \"\"\"\n",
    "\n",
    "    predictions = []\n",
    "    actuals = []\n",
    "    for index, row in formatted_data.iterrows():\n",
    "        predictions.append([])\n",
    "        actuals.append([])\n",
    "        for i in range(121, 169):\n",
    "            column_load = f\"Load (kW)_date{i}\"\n",
    "            column_time = f\"Time_date{i}\"\n",
    "            \n",
    "            # predictions[index] = [load, time of load used to make prediction]\n",
    "            # The load above is for the time to the right plus two days.\n",
    "            \n",
    "            # predictions[index].append([row[column_load], row[column_time]])\n",
    "            \n",
    "            # Just Predicted Load\n",
    "            predictions[index].append(row[column_load]) \n",
    "\n",
    "            \n",
    "            # Append the same data into actuals, but with a two-row offset\n",
    "            offset_index = index + 2\n",
    "            if offset_index < len(formatted_data):\n",
    "                actual_row = formatted_data.iloc[offset_index]\n",
    "                # actuals[index].append([actual_row[column_load], actual_row[column_time]])\n",
    "                \n",
    "                # Just Actual Load\n",
    "                actuals[index].append(actual_row[column_load])\n",
    "                \n",
    "            else:\n",
    "                continue\n",
    "\n",
    "    return predictions, actuals\n",
    "\n",
    "    \n",
    "x, y = naive(formatted_data)\n"
   ]
  },
  {
   "cell_type": "code",
   "execution_count": null,
   "metadata": {},
   "outputs": [
    {
     "name": "stdout",
     "output_type": "stream",
     "text": [
      "Overall Metrics:\n",
      "Overall MAE: 73392.48434059367\n",
      "Overall RMSE: 98596.85582772917\n",
      "Overall MAPE: 6.209745322336333\n",
      "Overall R-squared (R²): -0.1975316101474827\n"
     ]
    }
   ],
   "source": [
    "def calculate_metrics(predictions, actuals):\n",
    "    mae_per_sublist = []\n",
    "    rmse_per_sublist = []\n",
    "    mape_per_sublist = []\n",
    "    r2_per_sublist = []\n",
    "\n",
    "    for i in range(len(predictions)):\n",
    "        if len(predictions[i]) == 0 or len(actuals[i]) == 0:\n",
    "            break\n",
    "\n",
    "        predicted_load = np.array(predictions[i])\n",
    "        actual_load = np.array(actuals[i])\n",
    "\n",
    "        # Calculate the metrics for the current sublist\n",
    "        mae = mean_absolute_error(actual_load, predicted_load)\n",
    "        mse = mean_squared_error(actual_load, predicted_load)\n",
    "        rmse = np.sqrt(mse)\n",
    "        mape = np.mean(np.abs((actual_load - predicted_load) / actual_load)) * 100\n",
    "        r_squared = r2_score(actual_load, predicted_load)\n",
    "\n",
    "        # Calculate the MAE for the current sublist\n",
    "        mae = mean_absolute_error(actual_load, predicted_load)\n",
    "        \n",
    "        # Calculate the RMSE for the current sublist\n",
    "        mse = mean_squared_error(actual_load, predicted_load)\n",
    "        rmse = np.sqrt(mse)\n",
    "        \n",
    "        # Calculate the MAPE for the current sublist\n",
    "        mape = np.mean(np.abs((actual_load - predicted_load) / actual_load)) * 100\n",
    "        \n",
    "        # Calculate the R-squared (R²) for the current sublist\n",
    "        r_squared = r2_score(actual_load, predicted_load)\n",
    "        \n",
    "        # Append Metrics\n",
    "        mae_per_sublist.append(mae)\n",
    "        rmse_per_sublist.append(rmse)\n",
    "        mape_per_sublist.append(mape)\n",
    "        r2_per_sublist.append(r_squared)\n",
    "\n",
    "        # Check if there are sublists with non-empty data\n",
    "    if len(mae_per_sublist) > 0:\n",
    "        # Calculate the overall metrics by taking the mean of all sublists' values\n",
    "        overall_mae = np.mean(mae_per_sublist)\n",
    "        overall_rmse = np.mean(rmse_per_sublist)\n",
    "        overall_mape = np.mean(mape_per_sublist)\n",
    "        overall_r2 = np.mean(r2_per_sublist)\n",
    "\n",
    "        print(\"Overall Metrics:\")\n",
    "        print(f\"Overall MAE: {overall_mae}\")\n",
    "        print(f\"Overall RMSE: {overall_rmse}\")\n",
    "        print(f\"Overall MAPE: {overall_mape}\")\n",
    "        print(f\"Overall R-squared (R²): {overall_r2}\")\n",
    "    else:\n",
    "        print(\"No valid data to calculate metrics.\")\n",
    "\n",
    "print(\"Naive:\")\n",
    "calculate_metrics(x, y)\n",
    "            "
   ]
  },
  {
   "cell_type": "code",
   "execution_count": null,
   "metadata": {},
   "outputs": [],
   "source": [
    "def random_walk_forecast(formatted_data):\n",
    "    \"\"\"\n",
    "    :Input: \n",
    "        :data: The entire dataset of batches.\n",
    "        \n",
    "    For this algorithm, go over each batch, create a list of predictions using random walk,\n",
    "    compare these predictions to the actual values.\n",
    "    \"\"\"\n",
    "\n",
    "    predictions = []\n",
    "    actuals = []\n",
    "    for index, row in formatted_data.iterrows():\n",
    "        predictions.append([])\n",
    "        actuals.append([])\n",
    "        for i in range(120, 168):  # We start at 120 because we need t-1 for the first forecast\n",
    "            column_load = f\"Load (kW)_date{i+1}\"\n",
    "            prev_column_load = f\"Load (kW)_date{i}\"\n",
    "            \n",
    "            # Predicted Load using Random Walk\n",
    "            random_noise = np.random.normal(0, 1)\n",
    "            predicted_value = row[prev_column_load] + random_noise\n",
    "            predicted_value = round(predicted_value, 3)\n",
    "            predictions[index].append(predicted_value) \n",
    "\n",
    "\n",
    "            # Append the same data into actuals, but with a two-row offset\n",
    "            offset_index = index + 2\n",
    "            if offset_index < len(formatted_data):\n",
    "                actual_row = formatted_data.iloc[offset_index]\n",
    "                actuals[index].append(actual_row[column_load])\n",
    "                \n",
    "            else:\n",
    "                continue\n",
    "\n",
    "    return predictions, actuals\n",
    "\n",
    "# Use the random walk forecast method\n",
    "rw_predictions, rw_actuals = random_walk_forecast(formatted_data)"
   ]
  },
  {
   "cell_type": "code",
   "execution_count": null,
   "metadata": {},
   "outputs": [
    {
     "name": "stdout",
     "output_type": "stream",
     "text": [
      "Overall Metrics:\n",
      "Overall MAE: 73392.48434059367\n",
      "Overall RMSE: 98596.85582772917\n",
      "Overall MAPE: 6.209745322336333\n",
      "Overall R-squared (R²): -0.1975316101474827\n",
      "Overall Metrics:\n",
      "Overall MAE: 81297.47457046209\n",
      "Overall RMSE: 107216.64977968078\n",
      "Overall MAPE: 6.857836212785002\n",
      "Overall R-squared (R²): -0.2578227775416112\n"
     ]
    }
   ],
   "source": [
    "print(\"Random walk:\")\n",
    "calculate_metrics(rw_predictions, rw_actuals)\n",
    "            "
   ]
  }
 ],
 "metadata": {
  "kernelspec": {
   "display_name": "elecDemandEnv",
   "language": "python",
   "name": "python3"
  },
  "language_info": {
   "codemirror_mode": {
    "name": "ipython",
    "version": 3
   },
   "file_extension": ".py",
   "mimetype": "text/x-python",
   "name": "python",
   "nbconvert_exporter": "python",
   "pygments_lexer": "ipython3",
   "version": "3.8.8"
  },
  "orig_nbformat": 4
 },
 "nbformat": 4,
 "nbformat_minor": 2
}
